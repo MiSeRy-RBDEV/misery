{
    "cells": [
        {
            "cell_type": "markdown",
            "metadata": {
                "collapsed": true
            },
            "source": "# Battle of the Neighbourhoods - Week 1"
        },
        {
            "cell_type": "markdown",
            "metadata": {},
            "source": "## Description of the Problem and Background"
        },
        {
            "cell_type": "markdown",
            "metadata": {},
            "source": "### 1.1 Introduction"
        },
        {
            "cell_type": "markdown",
            "metadata": {},
            "source": "The number of restaurants in Toronto have varying numbers of visits from local and tourists within the city neighbourhoods. An interesting question is posed by which neighbourhoods prefer which types of various restaurants that exist within the city. "
        },
        {
            "cell_type": "markdown",
            "metadata": {},
            "source": "The goal behind this project is to understand which locations would be ideal for the positioning of a specific type of restaurant."
        },
        {
            "cell_type": "markdown",
            "metadata": {},
            "source": "### 1.2 Background"
        },
        {
            "cell_type": "markdown",
            "metadata": {},
            "source": "My customer is a global chain of restaurants including coffee shops and various other offerings,\nwhich will gain a large amount of insight with the information towards which neighbourhoods prefer \nwhich restaurants."
        },
        {
            "cell_type": "markdown",
            "metadata": {},
            "source": "### 1.3 Target Audience"
        },
        {
            "cell_type": "markdown",
            "metadata": {},
            "source": "The target audience for this project is my peers since it will be critical for them to rate me."
        },
        {
            "cell_type": "markdown",
            "metadata": {},
            "source": "## Understanding of the Data at Hand"
        },
        {
            "cell_type": "markdown",
            "metadata": {},
            "source": "### 2.1 Description"
        },
        {
            "cell_type": "markdown",
            "metadata": {},
            "source": "The project will rely on available sources of data within Wikipedia and Foursquare"
        },
        {
            "cell_type": "markdown",
            "metadata": {},
            "source": "### 2.1.1 Wikipedia Dataset"
        },
        {
            "cell_type": "markdown",
            "metadata": {},
            "source": "The following url https://en.wikipedia.org/wiki/List_of_postal_codes_of_Canada will be used to scrape existing data from Wikipedia enabling us to understand all available neighbourhoods within Toronto. The data will be further enhance by enbedding it with the geospacial data of each neighborhood using the following link http://cocl.us/Geospatial_data. This data will also be cleaned of missing data within neighbourhoods and combined to form a leaner measure of each neighbourhood."
        },
        {
            "cell_type": "markdown",
            "metadata": {},
            "source": "### 2.1.2 Foursquare Dataset"
        },
        {
            "cell_type": "markdown",
            "metadata": {},
            "source": "The foursquare API will be used to extract data from all the various entities within the neighbourhoods and understand the various types of restaurants available within each neighbourhood. This will be controlled by a radius of 500 and a limit of a 100 per request "
        },
        {
            "cell_type": "markdown",
            "metadata": {},
            "source": "## 2.2 Solving the issue"
        },
        {
            "cell_type": "markdown",
            "metadata": {},
            "source": "The issue will be solved by analazing the mean if the types of restaurants within the foursquare information and determining which are the most visited restaurants within the neighbourhood dataset."
        },
        {
            "cell_type": "code",
            "execution_count": null,
            "metadata": {},
            "outputs": [],
            "source": ""
        }
    ],
    "metadata": {
        "kernelspec": {
            "display_name": "Python 3.6",
            "language": "python",
            "name": "python3"
        },
        "language_info": {
            "codemirror_mode": {
                "name": "ipython",
                "version": 3
            },
            "file_extension": ".py",
            "mimetype": "text/x-python",
            "name": "python",
            "nbconvert_exporter": "python",
            "pygments_lexer": "ipython3",
            "version": "3.6.9"
        }
    },
    "nbformat": 4,
    "nbformat_minor": 1
}